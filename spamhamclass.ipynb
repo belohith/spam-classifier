{
 "cells": [
  {
   "cell_type": "code",
   "execution_count": 170,
   "id": "828cc55b-a1ce-43f8-b020-bf55cd71628d",
   "metadata": {},
   "outputs": [],
   "source": [
    "import numpy as np # linear algebra library\n",
    "import pandas as pd # data processing library\n",
    "import matplotlib.pyplot as plt  # plotting library\n",
    "from sklearn.model_selection import train_test_split #split data into train and test\n",
    "from sklearn.feature_extraction.text import TfidfVectorizer #vectorize data\n",
    "from sklearn.metrics import accuracy_score, precision_score #metrics\n",
    "from sklearn.naive_bayes import MultinomialNB #naive bayes "
   ]
  },
  {
   "cell_type": "code",
   "execution_count": 171,
   "id": "76c801f1-76d3-4afb-b411-e5728143267d",
   "metadata": {},
   "outputs": [
    {
     "data": {
      "text/html": [
       "<div>\n",
       "<style scoped>\n",
       "    .dataframe tbody tr th:only-of-type {\n",
       "        vertical-align: middle;\n",
       "    }\n",
       "\n",
       "    .dataframe tbody tr th {\n",
       "        vertical-align: top;\n",
       "    }\n",
       "\n",
       "    .dataframe thead th {\n",
       "        text-align: right;\n",
       "    }\n",
       "</style>\n",
       "<table border=\"1\" class=\"dataframe\">\n",
       "  <thead>\n",
       "    <tr style=\"text-align: right;\">\n",
       "      <th></th>\n",
       "      <th>Unnamed: 0</th>\n",
       "      <th>label</th>\n",
       "      <th>text</th>\n",
       "      <th>label_num</th>\n",
       "    </tr>\n",
       "  </thead>\n",
       "  <tbody>\n",
       "    <tr>\n",
       "      <th>0</th>\n",
       "      <td>605</td>\n",
       "      <td>ham</td>\n",
       "      <td>Subject: enron methanol ; meter # : 988291\\r\\n...</td>\n",
       "      <td>0</td>\n",
       "    </tr>\n",
       "    <tr>\n",
       "      <th>1</th>\n",
       "      <td>2349</td>\n",
       "      <td>ham</td>\n",
       "      <td>Subject: hpl nom for january 9 , 2001\\r\\n( see...</td>\n",
       "      <td>0</td>\n",
       "    </tr>\n",
       "    <tr>\n",
       "      <th>2</th>\n",
       "      <td>3624</td>\n",
       "      <td>ham</td>\n",
       "      <td>Subject: neon retreat\\r\\nho ho ho , we ' re ar...</td>\n",
       "      <td>0</td>\n",
       "    </tr>\n",
       "    <tr>\n",
       "      <th>3</th>\n",
       "      <td>4685</td>\n",
       "      <td>spam</td>\n",
       "      <td>Subject: photoshop , windows , office . cheap ...</td>\n",
       "      <td>1</td>\n",
       "    </tr>\n",
       "    <tr>\n",
       "      <th>4</th>\n",
       "      <td>2030</td>\n",
       "      <td>ham</td>\n",
       "      <td>Subject: re : indian springs\\r\\nthis deal is t...</td>\n",
       "      <td>0</td>\n",
       "    </tr>\n",
       "    <tr>\n",
       "      <th>...</th>\n",
       "      <td>...</td>\n",
       "      <td>...</td>\n",
       "      <td>...</td>\n",
       "      <td>...</td>\n",
       "    </tr>\n",
       "    <tr>\n",
       "      <th>5166</th>\n",
       "      <td>1518</td>\n",
       "      <td>ham</td>\n",
       "      <td>Subject: put the 10 on the ft\\r\\nthe transport...</td>\n",
       "      <td>0</td>\n",
       "    </tr>\n",
       "    <tr>\n",
       "      <th>5167</th>\n",
       "      <td>404</td>\n",
       "      <td>ham</td>\n",
       "      <td>Subject: 3 / 4 / 2000 and following noms\\r\\nhp...</td>\n",
       "      <td>0</td>\n",
       "    </tr>\n",
       "    <tr>\n",
       "      <th>5168</th>\n",
       "      <td>2933</td>\n",
       "      <td>ham</td>\n",
       "      <td>Subject: calpine daily gas nomination\\r\\n&gt;\\r\\n...</td>\n",
       "      <td>0</td>\n",
       "    </tr>\n",
       "    <tr>\n",
       "      <th>5169</th>\n",
       "      <td>1409</td>\n",
       "      <td>ham</td>\n",
       "      <td>Subject: industrial worksheets for august 2000...</td>\n",
       "      <td>0</td>\n",
       "    </tr>\n",
       "    <tr>\n",
       "      <th>5170</th>\n",
       "      <td>4807</td>\n",
       "      <td>spam</td>\n",
       "      <td>Subject: important online banking alert\\r\\ndea...</td>\n",
       "      <td>1</td>\n",
       "    </tr>\n",
       "  </tbody>\n",
       "</table>\n",
       "<p>5171 rows × 4 columns</p>\n",
       "</div>"
      ],
      "text/plain": [
       "      Unnamed: 0 label                                               text  \\\n",
       "0            605   ham  Subject: enron methanol ; meter # : 988291\\r\\n...   \n",
       "1           2349   ham  Subject: hpl nom for january 9 , 2001\\r\\n( see...   \n",
       "2           3624   ham  Subject: neon retreat\\r\\nho ho ho , we ' re ar...   \n",
       "3           4685  spam  Subject: photoshop , windows , office . cheap ...   \n",
       "4           2030   ham  Subject: re : indian springs\\r\\nthis deal is t...   \n",
       "...          ...   ...                                                ...   \n",
       "5166        1518   ham  Subject: put the 10 on the ft\\r\\nthe transport...   \n",
       "5167         404   ham  Subject: 3 / 4 / 2000 and following noms\\r\\nhp...   \n",
       "5168        2933   ham  Subject: calpine daily gas nomination\\r\\n>\\r\\n...   \n",
       "5169        1409   ham  Subject: industrial worksheets for august 2000...   \n",
       "5170        4807  spam  Subject: important online banking alert\\r\\ndea...   \n",
       "\n",
       "      label_num  \n",
       "0             0  \n",
       "1             0  \n",
       "2             0  \n",
       "3             1  \n",
       "4             0  \n",
       "...         ...  \n",
       "5166          0  \n",
       "5167          0  \n",
       "5168          0  \n",
       "5169          0  \n",
       "5170          1  \n",
       "\n",
       "[5171 rows x 4 columns]"
      ]
     },
     "execution_count": 171,
     "metadata": {},
     "output_type": "execute_result"
    }
   ],
   "source": [
    "data = pd.read_csv('spam_ham_dataset.csv') #read csv file\n",
    "data #print data"
   ]
  },
  {
   "cell_type": "code",
   "execution_count": 172,
   "id": "04bf34cf-c441-4448-88c3-a652cc384321",
   "metadata": {},
   "outputs": [
    {
     "name": "stdout",
     "output_type": "stream",
     "text": [
      "<class 'pandas.core.frame.DataFrame'>\n",
      "RangeIndex: 5171 entries, 0 to 5170\n",
      "Data columns (total 4 columns):\n",
      " #   Column      Non-Null Count  Dtype \n",
      "---  ------      --------------  ----- \n",
      " 0   Unnamed: 0  5171 non-null   int64 \n",
      " 1   label       5171 non-null   object\n",
      " 2   text        5171 non-null   object\n",
      " 3   label_num   5171 non-null   int64 \n",
      "dtypes: int64(2), object(2)\n",
      "memory usage: 161.7+ KB\n"
     ]
    }
   ],
   "source": [
    "data.info() #print info"
   ]
  },
  {
   "cell_type": "code",
   "execution_count": 173,
   "id": "d8bc119c-526a-490e-9145-3c50f7afdc47",
   "metadata": {},
   "outputs": [
    {
     "data": {
      "text/plain": [
       "(5171, 4)"
      ]
     },
     "execution_count": 173,
     "metadata": {},
     "output_type": "execute_result"
    }
   ],
   "source": [
    "data.shape #print shape"
   ]
  },
  {
   "cell_type": "code",
   "execution_count": 174,
   "id": "920664fc-440d-471c-8758-cc4a9768abc9",
   "metadata": {},
   "outputs": [
    {
     "data": {
      "text/html": [
       "<div>\n",
       "<style scoped>\n",
       "    .dataframe tbody tr th:only-of-type {\n",
       "        vertical-align: middle;\n",
       "    }\n",
       "\n",
       "    .dataframe tbody tr th {\n",
       "        vertical-align: top;\n",
       "    }\n",
       "\n",
       "    .dataframe thead th {\n",
       "        text-align: right;\n",
       "    }\n",
       "</style>\n",
       "<table border=\"1\" class=\"dataframe\">\n",
       "  <thead>\n",
       "    <tr style=\"text-align: right;\">\n",
       "      <th></th>\n",
       "      <th>Unnamed: 0</th>\n",
       "      <th>label</th>\n",
       "      <th>text</th>\n",
       "      <th>label_num</th>\n",
       "    </tr>\n",
       "  </thead>\n",
       "  <tbody>\n",
       "    <tr>\n",
       "      <th>0</th>\n",
       "      <td>605</td>\n",
       "      <td>ham</td>\n",
       "      <td>Subject: enron methanol ; meter # : 988291\\r\\n...</td>\n",
       "      <td>0</td>\n",
       "    </tr>\n",
       "    <tr>\n",
       "      <th>1</th>\n",
       "      <td>2349</td>\n",
       "      <td>ham</td>\n",
       "      <td>Subject: hpl nom for january 9 , 2001\\r\\n( see...</td>\n",
       "      <td>0</td>\n",
       "    </tr>\n",
       "    <tr>\n",
       "      <th>2</th>\n",
       "      <td>3624</td>\n",
       "      <td>ham</td>\n",
       "      <td>Subject: neon retreat\\r\\nho ho ho , we ' re ar...</td>\n",
       "      <td>0</td>\n",
       "    </tr>\n",
       "    <tr>\n",
       "      <th>3</th>\n",
       "      <td>4685</td>\n",
       "      <td>spam</td>\n",
       "      <td>Subject: photoshop , windows , office . cheap ...</td>\n",
       "      <td>1</td>\n",
       "    </tr>\n",
       "    <tr>\n",
       "      <th>4</th>\n",
       "      <td>2030</td>\n",
       "      <td>ham</td>\n",
       "      <td>Subject: re : indian springs\\r\\nthis deal is t...</td>\n",
       "      <td>0</td>\n",
       "    </tr>\n",
       "  </tbody>\n",
       "</table>\n",
       "</div>"
      ],
      "text/plain": [
       "   Unnamed: 0 label                                               text  \\\n",
       "0         605   ham  Subject: enron methanol ; meter # : 988291\\r\\n...   \n",
       "1        2349   ham  Subject: hpl nom for january 9 , 2001\\r\\n( see...   \n",
       "2        3624   ham  Subject: neon retreat\\r\\nho ho ho , we ' re ar...   \n",
       "3        4685  spam  Subject: photoshop , windows , office . cheap ...   \n",
       "4        2030   ham  Subject: re : indian springs\\r\\nthis deal is t...   \n",
       "\n",
       "   label_num  \n",
       "0          0  \n",
       "1          0  \n",
       "2          0  \n",
       "3          1  \n",
       "4          0  "
      ]
     },
     "execution_count": 174,
     "metadata": {},
     "output_type": "execute_result"
    }
   ],
   "source": [
    "data.head() #print head"
   ]
  },
  {
   "cell_type": "code",
   "execution_count": 175,
   "id": "0647c77f-6f76-4a73-bf9c-e1d51cdc1efa",
   "metadata": {},
   "outputs": [],
   "source": [
    "data = data.rename(columns={'Unnamed: 0': 'index'}) #rename column"
   ]
  },
  {
   "cell_type": "code",
   "execution_count": 176,
   "id": "5749fb74-e0b1-43f4-b682-4c62d6a9454c",
   "metadata": {},
   "outputs": [
    {
     "data": {
      "text/html": [
       "<div>\n",
       "<style scoped>\n",
       "    .dataframe tbody tr th:only-of-type {\n",
       "        vertical-align: middle;\n",
       "    }\n",
       "\n",
       "    .dataframe tbody tr th {\n",
       "        vertical-align: top;\n",
       "    }\n",
       "\n",
       "    .dataframe thead th {\n",
       "        text-align: right;\n",
       "    }\n",
       "</style>\n",
       "<table border=\"1\" class=\"dataframe\">\n",
       "  <thead>\n",
       "    <tr style=\"text-align: right;\">\n",
       "      <th></th>\n",
       "      <th>index</th>\n",
       "      <th>label</th>\n",
       "      <th>text</th>\n",
       "      <th>value</th>\n",
       "    </tr>\n",
       "  </thead>\n",
       "  <tbody>\n",
       "    <tr>\n",
       "      <th>0</th>\n",
       "      <td>605</td>\n",
       "      <td>ham</td>\n",
       "      <td>Subject: enron methanol ; meter # : 988291\\r\\n...</td>\n",
       "      <td>0</td>\n",
       "    </tr>\n",
       "    <tr>\n",
       "      <th>1</th>\n",
       "      <td>2349</td>\n",
       "      <td>ham</td>\n",
       "      <td>Subject: hpl nom for january 9 , 2001\\r\\n( see...</td>\n",
       "      <td>0</td>\n",
       "    </tr>\n",
       "    <tr>\n",
       "      <th>2</th>\n",
       "      <td>3624</td>\n",
       "      <td>ham</td>\n",
       "      <td>Subject: neon retreat\\r\\nho ho ho , we ' re ar...</td>\n",
       "      <td>0</td>\n",
       "    </tr>\n",
       "    <tr>\n",
       "      <th>3</th>\n",
       "      <td>4685</td>\n",
       "      <td>spam</td>\n",
       "      <td>Subject: photoshop , windows , office . cheap ...</td>\n",
       "      <td>1</td>\n",
       "    </tr>\n",
       "    <tr>\n",
       "      <th>4</th>\n",
       "      <td>2030</td>\n",
       "      <td>ham</td>\n",
       "      <td>Subject: re : indian springs\\r\\nthis deal is t...</td>\n",
       "      <td>0</td>\n",
       "    </tr>\n",
       "    <tr>\n",
       "      <th>...</th>\n",
       "      <td>...</td>\n",
       "      <td>...</td>\n",
       "      <td>...</td>\n",
       "      <td>...</td>\n",
       "    </tr>\n",
       "    <tr>\n",
       "      <th>5166</th>\n",
       "      <td>1518</td>\n",
       "      <td>ham</td>\n",
       "      <td>Subject: put the 10 on the ft\\r\\nthe transport...</td>\n",
       "      <td>0</td>\n",
       "    </tr>\n",
       "    <tr>\n",
       "      <th>5167</th>\n",
       "      <td>404</td>\n",
       "      <td>ham</td>\n",
       "      <td>Subject: 3 / 4 / 2000 and following noms\\r\\nhp...</td>\n",
       "      <td>0</td>\n",
       "    </tr>\n",
       "    <tr>\n",
       "      <th>5168</th>\n",
       "      <td>2933</td>\n",
       "      <td>ham</td>\n",
       "      <td>Subject: calpine daily gas nomination\\r\\n&gt;\\r\\n...</td>\n",
       "      <td>0</td>\n",
       "    </tr>\n",
       "    <tr>\n",
       "      <th>5169</th>\n",
       "      <td>1409</td>\n",
       "      <td>ham</td>\n",
       "      <td>Subject: industrial worksheets for august 2000...</td>\n",
       "      <td>0</td>\n",
       "    </tr>\n",
       "    <tr>\n",
       "      <th>5170</th>\n",
       "      <td>4807</td>\n",
       "      <td>spam</td>\n",
       "      <td>Subject: important online banking alert\\r\\ndea...</td>\n",
       "      <td>1</td>\n",
       "    </tr>\n",
       "  </tbody>\n",
       "</table>\n",
       "<p>5171 rows × 4 columns</p>\n",
       "</div>"
      ],
      "text/plain": [
       "      index label                                               text  value\n",
       "0       605   ham  Subject: enron methanol ; meter # : 988291\\r\\n...      0\n",
       "1      2349   ham  Subject: hpl nom for january 9 , 2001\\r\\n( see...      0\n",
       "2      3624   ham  Subject: neon retreat\\r\\nho ho ho , we ' re ar...      0\n",
       "3      4685  spam  Subject: photoshop , windows , office . cheap ...      1\n",
       "4      2030   ham  Subject: re : indian springs\\r\\nthis deal is t...      0\n",
       "...     ...   ...                                                ...    ...\n",
       "5166   1518   ham  Subject: put the 10 on the ft\\r\\nthe transport...      0\n",
       "5167    404   ham  Subject: 3 / 4 / 2000 and following noms\\r\\nhp...      0\n",
       "5168   2933   ham  Subject: calpine daily gas nomination\\r\\n>\\r\\n...      0\n",
       "5169   1409   ham  Subject: industrial worksheets for august 2000...      0\n",
       "5170   4807  spam  Subject: important online banking alert\\r\\ndea...      1\n",
       "\n",
       "[5171 rows x 4 columns]"
      ]
     },
     "execution_count": 176,
     "metadata": {},
     "output_type": "execute_result"
    }
   ],
   "source": [
    "data.rename(columns={'label_num': 'value'}) #rename column"
   ]
  },
  {
   "cell_type": "code",
   "execution_count": 177,
   "id": "b79145fd-04e1-4d92-9d5c-b75d0cbe5edd",
   "metadata": {},
   "outputs": [
    {
     "data": {
      "image/png": "[encoded data removed]",
      "text/plain": [
       "<Figure size 432x288 with 1 Axes>"
      ]
     },
     "metadata": {},
     "output_type": "display_data"
    }
   ],
   "source": [
    "plt.pie(data['label'].value_counts(), labels=['not spam', 'spam'], autopct=\"%0.1f\") #pie chart\n",
    "plt.show() #show pie chart"
   ]
  },
  {
   "cell_type": "code",
   "execution_count": 178,
   "id": "432c9d3f-e8f2-48c5-b5db-4b0d4acad2a5",
   "metadata": {},
   "outputs": [],
   "source": [
    "X = data['text'] #set X\n",
    "Y = data['label_num'] #set Y"
   ]
  },
  {
   "cell_type": "code",
   "execution_count": 179,
   "id": "3c43dc7a-5eb1-4027-b19c-559149bb4d33",
   "metadata": {},
   "outputs": [],
   "source": [
    "X_train,X_test,y_train,y_test=train_test_split(X,y,test_size=0.25,random_state=4) #split data into train and test"
   ]
  },
  {
   "cell_type": "code",
   "execution_count": 180,
   "id": "68a412a3-899e-4eca-9e1e-95f2379a5124",
   "metadata": {},
   "outputs": [],
   "source": [
    "nb = MultinomialNB() #create naive bayes\n",
    "feature_extractor= TfidfVectorizer(min_df=1,stop_words='english',lowercase='True') #create vectorizer\n",
    "X_train=feature_extractor.fit_transform(X_train) #fit vectorizer\n",
    "X_test=feature_extractor.transform(X_test) #transform\n",
    "tfidf = TfidfVectorizer(max_features=5000) #create vectorizer"
   ]
  },
  {
   "cell_type": "code",
   "execution_count": 181,
   "id": "5bb3a451-78f6-4125-bf03-eb3c42b73eaf",
   "metadata": {},
   "outputs": [
    {
     "name": "stdout",
     "output_type": "stream",
     "text": [
      "0.9662197008767406\n",
      "0.9969818913480886\n"
     ]
    }
   ],
   "source": [
    "nb.fit(X_train,Y_train) #fit model\n",
    "Y_pred = nb.predict(X_train) #predict\n",
    "print(accuracy_score(Y_train, Y_pred)) #print accuracy\n",
    "print(precision_score(Y_train, Y_pred)) #print precision"
   ]
  },
  {
   "cell_type": "code",
   "execution_count": 182,
   "id": "7e2874d7-3adf-42f1-8fe0-130680214ec6",
   "metadata": {},
   "outputs": [
    {
     "data": {
      "text/plain": [
       "MultinomialNB()"
      ]
     },
     "execution_count": 182,
     "metadata": {},
     "output_type": "execute_result"
    }
   ],
   "source": [
    "model = MultinomialNB() #create naive bayes\n",
    "model.fit(X_train,Y_train) #fit model"
   ]
  },
  {
   "cell_type": "code",
   "execution_count": 183,
   "id": "e851f368-3631-4e72-9de8-ac768926dfd2",
   "metadata": {},
   "outputs": [],
   "source": [
    "import pickle #pip install pickle\n",
    "pickle.dump(tfidf, open('vectorizer.pkl','wb'))     #save vectorizer\n",
    "pickle.dump(nb, open('model.pkl', 'wb')) #save model"
   ]
  },
  {
   "cell_type": "code",
   "execution_count": 184,
   "id": "e667263e-840b-447e-9ebd-847bb4055cf2",
   "metadata": {},
   "outputs": [
    {
     "name": "stdout",
     "output_type": "stream",
     "text": [
      "The mail received is NOT spam\n"
     ]
    }
   ],
   "source": [
    "mail = [\"Dear LOHITH, Thank you for joining IBM’s Talent Community! We are looking forward to staying in touch with you regarding upcoming events and career opportunities that match your interests.  You can also connect with us on social to gain even more insight into life at IBM. Thank you again.  We will be in touch soon! Regards, IBM Talent Acquisition Team\"]\n",
    "final_data=feature_extractor.transform(mail) #transform data\n",
    "\n",
    "predictions=model.predict(final_data) #predict \n",
    "if (predictions[0]==0): #if else statement to classify message\n",
    "  print(\"The mail received is NOT spam\")\n",
    "else:\n",
    "  print(\"The mail received is spam\")"
   ]
  },
  {
   "cell_type": "code",
   "execution_count": 189,
   "id": "f8a0412a-6bfb-44eb-af09-6e8796635c02",
   "metadata": {},
   "outputs": [
    {
     "name": "stdout",
     "output_type": "stream",
     "text": [
      "The mail received is NOT spam\n"
     ]
    }
   ],
   "source": [
    "mail = [\"Hi Lohith, Your experience at SUNY could make you a good fit for my Software Developer Engineer opportunity. If you're interested, please submit a quick application.\"]\n",
    "final_data=feature_extractor.transform(mail)\n",
    "\n",
    "predictions=model.predict(final_data)\n",
    "if (predictions[0]==0):\n",
    "  print(\"The mail received is NOT spam\")\n",
    "else:\n",
    "  print(\"The mail receieved is spam\")\n",
    "\n"
   ]
  },
  {
   "cell_type": "code",
   "execution_count": 190,
   "id": "476b3b05-9bef-4692-a001-c6ecfc732898",
   "metadata": {},
   "outputs": [
    {
     "name": "stdout",
     "output_type": "stream",
     "text": [
      "The mail receieved is spam\n"
     ]
    }
   ],
   "source": [
    "mail = [\"Subject: young sluts had sex for tewnty bucks buenos noches !ta llueu\"]\n",
    "final_data=feature_extractor.transform(mail)\n",
    "\n",
    "predictions=model.predict(final_data)\n",
    "if (predictions[0]==0):\n",
    "  print(\"The mail received is NOT spam\")\n",
    "else:\n",
    "  print(\"The mail receieved is spam\")"
   ]
  },
  {
   "cell_type": "code",
   "execution_count": 193,
   "id": "27ca06d8-1e39-42a2-8904-e69ed94cd495",
   "metadata": {},
   "outputs": [
    {
     "name": "stdout",
     "output_type": "stream",
     "text": [
      "The mail receieved is spam\n"
     ]
    }
   ],
   "source": [
    "\n",
    "mail = [\"Hi Bollineni, Join us live on our online workshop- How to publish your book at ZERO cost and learn how you can publish a professional book for FREE\"]\n",
    "final_data=feature_extractor.transform(mail)\n",
    "\n",
    "predictions=model.predict(final_data)\n",
    "if (predictions[0]==0):\n",
    "  print(\"The mail received is NOT spam\")\n",
    "else:\n",
    "  print(\"The mail receieved is spam\")"
   ]
  },
  {
   "cell_type": "code",
   "execution_count": null,
   "id": "3bf501f7-f795-4378-8b78-833694ea4f59",
   "metadata": {},
   "outputs": [],
   "source": []
  }
 ],
 "metadata": {
  "kernelspec": {
   "display_name": "Python 3 (ipykernel)",
   "language": "python",
   "name": "python3"
  },
  "language_info": {
   "codemirror_mode": {
    "name": "ipython",
    "version": 3
   },
   "file_extension": ".py",
   "mimetype": "text/x-python",
   "name": "python",
   "nbconvert_exporter": "python",
   "pygments_lexer": "ipython3",
   "version": "3.10.2"
  }
 },
 "nbformat": 4,
 "nbformat_minor": 5
}
